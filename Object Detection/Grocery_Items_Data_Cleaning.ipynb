{
  "nbformat": 4,
  "nbformat_minor": 0,
  "metadata": {
    "colab": {
      "provenance": []
    },
    "kernelspec": {
      "name": "python3",
      "display_name": "Python 3"
    },
    "language_info": {
      "name": "python"
    }
  },
  "cells": [
    {
      "cell_type": "code",
      "execution_count": null,
      "metadata": {
        "colab": {
          "base_uri": "https://localhost:8080/"
        },
        "id": "e9FV87VUNsT4",
        "outputId": "bc6c389d-4f73-4558-a97e-d987c22c85c8"
      },
      "outputs": [
        {
          "output_type": "execute_result",
          "data": {
            "text/plain": [
              "'D:\\\\Coding\\\\TensorFlow\\\\SC1\\\\FullDatav2'"
            ]
          },
          "metadata": {},
          "execution_count": 1
        }
      ],
      "source": [
        "import os\n",
        "os.getcwd()"
      ]
    },
    {
      "cell_type": "code",
      "source": [
        "lst = [0 for i in range(324)]\n",
        "for label in os.scandir('./train/labels'):\n",
        "  f = open(label.path, 'r')\n",
        "  lines = f.readlines()\n",
        "  for line in lines:\n",
        "    var = int(line.split()[0])\n",
        "    lst[var] += 1\n",
        "  f.close()\n",
        "lst[0:20]"
      ],
      "metadata": {
        "colab": {
          "base_uri": "https://localhost:8080/"
        },
        "id": "HFRpietjOMzJ",
        "outputId": "ee0848ac-4ab5-4e81-9a39-1819376c6cf8"
      },
      "execution_count": null,
      "outputs": [
        {
          "output_type": "execute_result",
          "data": {
            "text/plain": [
              "[49,\n",
              " 205,\n",
              " 184,\n",
              " 38,\n",
              " 167,\n",
              " 64,\n",
              " 123,\n",
              " 127,\n",
              " 1525,\n",
              " 81,\n",
              " 39,\n",
              " 45,\n",
              " 30,\n",
              " 146,\n",
              " 709,\n",
              " 115,\n",
              " 48,\n",
              " 70,\n",
              " 63,\n",
              " 124]"
            ]
          },
          "metadata": {},
          "execution_count": 67
        }
      ]
    },
    {
      "cell_type": "code",
      "source": [
        "sum = 0\n",
        "for i in lst:\n",
        "  if i > 100: sum+=1\n",
        "sum"
      ],
      "metadata": {
        "colab": {
          "base_uri": "https://localhost:8080/"
        },
        "id": "YR6TyOzfObXp",
        "outputId": "d5076f28-f510-467a-f771-b58747689a4a"
      },
      "execution_count": null,
      "outputs": [
        {
          "output_type": "execute_result",
          "data": {
            "text/plain": [
              "124"
            ]
          },
          "metadata": {},
          "execution_count": 68
        }
      ]
    },
    {
      "cell_type": "code",
      "source": [
        "len(lst) - sum"
      ],
      "metadata": {
        "colab": {
          "base_uri": "https://localhost:8080/"
        },
        "id": "V7rCukCzYWAG",
        "outputId": "67505d7e-e5a0-4be4-ec3c-226aaa24f2b5"
      },
      "execution_count": null,
      "outputs": [
        {
          "output_type": "execute_result",
          "data": {
            "text/plain": [
              "200"
            ]
          },
          "metadata": {},
          "execution_count": 49
        }
      ]
    },
    {
      "cell_type": "code",
      "source": [
        "uniques = []\n",
        "for label in os.scandir('./train/labels'):\n",
        "  f = open(label.path, 'r')\n",
        "  lines = f.readlines()\n",
        "  var = set([line.split()[0] for line in lines])\n",
        "  uniques.append(len(var))\n",
        "  f.close()\n",
        "uniques[:20]"
      ],
      "metadata": {
        "colab": {
          "base_uri": "https://localhost:8080/"
        },
        "id": "a-yZMu1gOyE0",
        "outputId": "a2fa0671-0dd4-4912-a6c6-4cb897547cee"
      },
      "execution_count": null,
      "outputs": [
        {
          "output_type": "execute_result",
          "data": {
            "text/plain": [
              "[1, 2, 1, 0, 1, 1, 1, 1, 1, 1, 1, 1, 1, 3, 1, 1, 1, 0, 2, 0]"
            ]
          },
          "metadata": {},
          "execution_count": 7
        }
      ]
    },
    {
      "cell_type": "code",
      "source": [
        "uniques.count(0)"
      ],
      "metadata": {
        "colab": {
          "base_uri": "https://localhost:8080/"
        },
        "id": "ZlkKONQGU1xo",
        "outputId": "75be3433-c612-410a-8f92-a5a6099ef372"
      },
      "execution_count": null,
      "outputs": [
        {
          "output_type": "execute_result",
          "data": {
            "text/plain": [
              "708"
            ]
          },
          "metadata": {},
          "execution_count": 8
        }
      ]
    },
    {
      "cell_type": "code",
      "source": [
        "toKeep = [210, 146, 189, 148, 88, 257, 42, 172, 29, 245, 115, 55, 213]\n",
        "for label in os.scandir('./test/labels'):\n",
        "  f = open(label.path, 'r')\n",
        "  lines = f.readlines()\n",
        "  f.close()\n",
        "\n",
        "  to_delete = []\n",
        "  for j in range(len(lines)):\n",
        "    var = int(lines[j].split()[0])\n",
        "    if lst[var] < 100 and (var not in toKeep): to_delete.append(j)\n",
        "\n",
        "  if to_delete != []:\n",
        "    to_delete.sort(reverse=True)\n",
        "    for k in to_delete:\n",
        "      lines.pop(k)\n",
        "\n",
        "  f = open(label.path, 'w')\n",
        "  f.writelines(lines)\n",
        "  f.close()\n"
      ],
      "metadata": {
        "id": "9KvUKj7KV1BB"
      },
      "execution_count": null,
      "outputs": []
    },
    {
      "cell_type": "code",
      "source": [
        "i = 0\n",
        "for label in os.scandir('./train/labels'):\n",
        "  if(uniques[i] == 0):\n",
        "    os.remove(label.path)\n",
        "  i+=1"
      ],
      "metadata": {
        "id": "wzUaAbSvdF0l"
      },
      "execution_count": null,
      "outputs": []
    },
    {
      "cell_type": "code",
      "source": [
        "newlst = [0 for i in range(324)]\n",
        "for label in os.scandir('./train/labels'):\n",
        "  f = open(label.path, 'r')\n",
        "  lines = f.readlines()\n",
        "  for line in lines:\n",
        "    var = int(line.split()[0])\n",
        "    newlst[var] += 1\n",
        "  f.close()\n",
        "newlst[0:20]"
      ],
      "metadata": {
        "colab": {
          "base_uri": "https://localhost:8080/"
        },
        "id": "vgJO0KRAeoeX",
        "outputId": "7f324f14-9f96-47c7-97ea-1049c9d753e7"
      },
      "execution_count": null,
      "outputs": [
        {
          "output_type": "execute_result",
          "data": {
            "text/plain": [
              "[0,\n",
              " 205,\n",
              " 184,\n",
              " 0,\n",
              " 167,\n",
              " 0,\n",
              " 123,\n",
              " 127,\n",
              " 1525,\n",
              " 0,\n",
              " 0,\n",
              " 0,\n",
              " 0,\n",
              " 146,\n",
              " 709,\n",
              " 115,\n",
              " 0,\n",
              " 0,\n",
              " 0,\n",
              " 124]"
            ]
          },
          "metadata": {},
          "execution_count": 11
        }
      ]
    },
    {
      "cell_type": "code",
      "source": [
        "newlst.count(0) - len(newlst)"
      ],
      "metadata": {
        "colab": {
          "base_uri": "https://localhost:8080/"
        },
        "id": "eO4xh_Sw8idN",
        "outputId": "8c861ac1-d9ef-41fa-c8ee-fdef52f0a0af"
      },
      "execution_count": null,
      "outputs": [
        {
          "output_type": "execute_result",
          "data": {
            "text/plain": [
              "-127"
            ]
          },
          "metadata": {},
          "execution_count": 12
        }
      ]
    },
    {
      "cell_type": "code",
      "source": [
        "lst.count(0)"
      ],
      "metadata": {
        "colab": {
          "base_uri": "https://localhost:8080/"
        },
        "id": "Zj6TcFPPCc5G",
        "outputId": "5dc26d56-0ff8-4fbc-bd5d-e5d6631ebc47"
      },
      "execution_count": null,
      "outputs": [
        {
          "output_type": "execute_result",
          "data": {
            "text/plain": [
              "0"
            ]
          },
          "metadata": {},
          "execution_count": 64
        }
      ]
    },
    {
      "cell_type": "code",
      "source": [
        "uniques3 = []\n",
        "for label in os.scandir('./test/labels'):\n",
        "  f = open(label.path, 'r')\n",
        "  lines = f.readlines()\n",
        "  var = set([line.split()[0] for line in lines])\n",
        "  uniques3.append(len(var))\n",
        "  f.close()\n",
        "uniques3[:20]"
      ],
      "metadata": {
        "colab": {
          "base_uri": "https://localhost:8080/"
        },
        "id": "oXQUobvUi2Pw",
        "outputId": "93fe9644-7d74-469e-d6f3-356163d3fe97"
      },
      "execution_count": null,
      "outputs": [
        {
          "output_type": "execute_result",
          "data": {
            "text/plain": [
              "[3, 1, 2, 3, 3, 1, 1, 2, 3, 1, 6, 4, 1, 1, 1, 2, 1, 2, 0, 1]"
            ]
          },
          "metadata": {},
          "execution_count": 98
        }
      ]
    },
    {
      "cell_type": "code",
      "source": [
        "uniques3.count(0)"
      ],
      "metadata": {
        "colab": {
          "base_uri": "https://localhost:8080/"
        },
        "id": "p1fUHNMAjZaB",
        "outputId": "ad77181d-d515-4407-f937-7397e5c776f3"
      },
      "execution_count": null,
      "outputs": [
        {
          "output_type": "execute_result",
          "data": {
            "text/plain": [
              "2"
            ]
          },
          "metadata": {},
          "execution_count": 99
        }
      ]
    },
    {
      "cell_type": "code",
      "source": [
        "i = 0\n",
        "for label in os.scandir('./test/labels'):\n",
        "  if(uniques3[i] == 0):\n",
        "    os.remove(label.path)\n",
        "  i+=1"
      ],
      "metadata": {
        "id": "GXE0jR41jDgp"
      },
      "execution_count": null,
      "outputs": []
    },
    {
      "cell_type": "code",
      "source": [
        "len(lst)"
      ],
      "metadata": {
        "colab": {
          "base_uri": "https://localhost:8080/"
        },
        "id": "3KH06eoAfBIj",
        "outputId": "3700bef1-edb7-44f8-97c2-0fe7f667f27d"
      },
      "execution_count": null,
      "outputs": [
        {
          "output_type": "execute_result",
          "data": {
            "text/plain": [
              "324"
            ]
          },
          "metadata": {},
          "execution_count": 102
        }
      ]
    },
    {
      "cell_type": "code",
      "source": [
        "i = 0\n",
        "j = 0\n",
        "map = {}\n",
        "for i in range(len(lst)):\n",
        "  if lst[i] < 100: continue\n",
        "  map[i] = j\n",
        "  j+=1\n",
        "map"
      ],
      "metadata": {
        "colab": {
          "base_uri": "https://localhost:8080/"
        },
        "id": "Rm5XaffI6P5-",
        "outputId": "eabb48c6-8cee-4ea5-c258-47223ab3ed1d"
      },
      "execution_count": null,
      "outputs": [
        {
          "output_type": "execute_result",
          "data": {
            "text/plain": [
              "{1: 0,\n",
              " 2: 1,\n",
              " 4: 2,\n",
              " 6: 3,\n",
              " 7: 4,\n",
              " 8: 5,\n",
              " 13: 6,\n",
              " 14: 7,\n",
              " 15: 8,\n",
              " 19: 9,\n",
              " 20: 10,\n",
              " 29: 11,\n",
              " 30: 12,\n",
              " 32: 13,\n",
              " 36: 14,\n",
              " 37: 15,\n",
              " 38: 16,\n",
              " 39: 17,\n",
              " 41: 18,\n",
              " 42: 19,\n",
              " 45: 20,\n",
              " 51: 21,\n",
              " 52: 22,\n",
              " 54: 23,\n",
              " 55: 24,\n",
              " 56: 25,\n",
              " 61: 26,\n",
              " 66: 27,\n",
              " 67: 28,\n",
              " 71: 29,\n",
              " 72: 30,\n",
              " 74: 31,\n",
              " 80: 32,\n",
              " 81: 33,\n",
              " 83: 34,\n",
              " 85: 35,\n",
              " 88: 36,\n",
              " 96: 37,\n",
              " 98: 38,\n",
              " 100: 39,\n",
              " 102: 40,\n",
              " 106: 41,\n",
              " 112: 42,\n",
              " 114: 43,\n",
              " 115: 44,\n",
              " 117: 45,\n",
              " 118: 46,\n",
              " 119: 47,\n",
              " 120: 48,\n",
              " 124: 49,\n",
              " 127: 50,\n",
              " 128: 51,\n",
              " 130: 52,\n",
              " 134: 53,\n",
              " 137: 54,\n",
              " 139: 55,\n",
              " 140: 56,\n",
              " 141: 57,\n",
              " 142: 58,\n",
              " 143: 59,\n",
              " 146: 60,\n",
              " 147: 61,\n",
              " 148: 62,\n",
              " 149: 63,\n",
              " 152: 64,\n",
              " 155: 65,\n",
              " 164: 66,\n",
              " 166: 67,\n",
              " 171: 68,\n",
              " 172: 69,\n",
              " 175: 70,\n",
              " 177: 71,\n",
              " 183: 72,\n",
              " 185: 73,\n",
              " 189: 74,\n",
              " 190: 75,\n",
              " 192: 76,\n",
              " 198: 77,\n",
              " 199: 78,\n",
              " 201: 79,\n",
              " 203: 80,\n",
              " 204: 81,\n",
              " 208: 82,\n",
              " 210: 83,\n",
              " 211: 84,\n",
              " 212: 85,\n",
              " 213: 86,\n",
              " 216: 87,\n",
              " 217: 88,\n",
              " 221: 89,\n",
              " 226: 90,\n",
              " 228: 91,\n",
              " 229: 92,\n",
              " 233: 93,\n",
              " 235: 94,\n",
              " 236: 95,\n",
              " 239: 96,\n",
              " 241: 97,\n",
              " 242: 98,\n",
              " 245: 99,\n",
              " 249: 100,\n",
              " 251: 101,\n",
              " 253: 102,\n",
              " 256: 103,\n",
              " 257: 104,\n",
              " 258: 105,\n",
              " 259: 106,\n",
              " 260: 107,\n",
              " 262: 108,\n",
              " 265: 109,\n",
              " 269: 110,\n",
              " 270: 111,\n",
              " 272: 112,\n",
              " 273: 113,\n",
              " 277: 114,\n",
              " 280: 115,\n",
              " 283: 116,\n",
              " 284: 117,\n",
              " 288: 118,\n",
              " 289: 119,\n",
              " 291: 120,\n",
              " 293: 121,\n",
              " 299: 122,\n",
              " 304: 123,\n",
              " 305: 124,\n",
              " 309: 125,\n",
              " 316: 126}"
            ]
          },
          "metadata": {},
          "execution_count": 87
        }
      ]
    },
    {
      "cell_type": "code",
      "source": [
        "map[3]"
      ],
      "metadata": {
        "colab": {
          "base_uri": "https://localhost:8080/",
          "height": 141
        },
        "id": "241Z3KJE871P",
        "outputId": "522c5de7-bb52-415b-91bc-6fcc5760b281"
      },
      "execution_count": null,
      "outputs": [
        {
          "output_type": "error",
          "ename": "KeyError",
          "evalue": "3",
          "traceback": [
            "\u001b[1;31m---------------------------------------------------------------------------\u001b[0m",
            "\u001b[1;31mKeyError\u001b[0m                                  Traceback (most recent call last)",
            "Cell \u001b[1;32mIn[49], line 1\u001b[0m\n\u001b[1;32m----> 1\u001b[0m \u001b[38;5;28;43mmap\u001b[39;49m\u001b[43m[\u001b[49m\u001b[38;5;241;43m3\u001b[39;49m\u001b[43m]\u001b[49m\n",
            "\u001b[1;31mKeyError\u001b[0m: 3"
          ]
        }
      ]
    },
    {
      "cell_type": "code",
      "source": [
        "for label in os.scandir('./test/labels'):\n",
        "  f = open(label.path, 'r')\n",
        "  lines = f.readlines()\n",
        "  f.close()\n",
        "\n",
        "  for j in range(len(lines)):\n",
        "    temp = lines[j].split()\n",
        "    var = int(temp[0])\n",
        "    temp[0] = str(map[var])\n",
        "    lines[j] = ' '.join(temp) + '\\n'\n",
        "\n",
        "  f = open(label.path, 'w')\n",
        "  f.writelines(lines)\n",
        "  f.close()"
      ],
      "metadata": {
        "collapsed": true,
        "id": "JJeKBq-B64jo"
      },
      "execution_count": null,
      "outputs": []
    },
    {
      "cell_type": "code",
      "source": [
        "a[19]"
      ],
      "metadata": {
        "colab": {
          "base_uri": "https://localhost:8080/"
        },
        "id": "jixiKo8g6kPr",
        "outputId": "becbae24-2dea-403f-dd59-dc57f6899c15"
      },
      "execution_count": null,
      "outputs": [
        {
          "output_type": "execute_result",
          "data": {
            "text/plain": [
              "'Catch'"
            ]
          },
          "metadata": {},
          "execution_count": 24
        }
      ]
    },
    {
      "cell_type": "code",
      "source": [
        "a = ['24Mantra', 'Aakash', 'Aarambh', 'Aashirvaad', 'Act2', 'AirFreshner', 'Almonds', 'AmlaOil', 'Amul', 'AmulCool', 'Amulya', 'Apis', 'Apsara', 'Ariel', 'BNatural', 'Bagrrys', 'Baidyanath', 'Bajaj', 'BakingPowder', 'Balaji', 'Bambino', 'Bathroom_Cleaner', 'Belgian', 'Bikaji', 'Bingo', 'Biscuit', 'Biscuit_ButterBite_PriyaGold', 'BlueBird', 'Borges', 'Britannia', 'BrookeBond', 'Brown-Haley', 'Bru', 'Butlers', 'Butter', 'Butter_AmulLite', 'Butter_MilkyMist', 'Butter_MotherDairy', 'Butter_Nutralite', 'Cadbury', 'Candy', 'Cashews', 'Catch', 'Cavin', 'Cerelac_Wheat_Nestle', 'CheeseCubes_D-lecta', 'CheeseCubes_MilkyMist', 'CheeseSlices', 'CheeseSlices_Amul', 'CheeseSlices_Britannia', 'CheeseSlices_D-lecta', 'CheeseSlices_Go', 'CheeseSlices_MilkyMist', 'CheeseSlices_MotherDairy', 'Cheese_D-lecta', 'Chings', 'ChocoPie', 'Chocolate', 'ClinicPlus', 'CoconutOil_Nirmal', 'Colgate_Toothbrush', 'Comfort', 'Complan', 'CornStarch_Brown-Polson', 'Cornitos', 'CoughDrops_Vicks', 'Curd_MilkyMist', 'Dabur', 'DarkFantasy_ChocolateShake', 'Dates', 'DatesSyrup_Lion', 'DelMonte', 'DelMonte_Mayonnaise', 'Delisious', 'Dettol', 'Diapers', 'Dishwash_Scrubz', 'Dishwasher_Exo', 'Domex', 'Doritos', 'Dove', 'DrOetker', 'DryFruits', 'Dukes', 'Emami', 'Eno', 'Ensure', 'Enzo', 'Everest', 'FabricConditioner_Softlan', 'Fair-Lovely', 'FerreroRocher', 'Figaro', 'First Crop Bikaneri Bhuji', 'Fogg', 'Fortune', 'FrozenPackagedFood', 'Frutins', 'Gaia', 'Gangwal', 'Garnier', 'Ghadi', 'Ghee', 'Gillette', 'Gits', 'GluconD', 'Go', 'Godrej', 'GoodDay', 'GoodLife', 'Guruji', 'Hair-Care', 'Haldirams', 'HandSanitizer', 'Harpic', 'Head-Shoulders', 'HellMann-s_Mayonnaise', 'Hersheys', 'Himalaya', 'Honey_Lion', 'Horlicks', 'IceCream', 'IceCream_Amul', 'JewelFarmer', 'Johnsons', 'Joy', 'Juice_Swing', 'Kaffe', 'Kellogs', 'KeshKing', 'Keya', 'Kimchi', 'KinderJoy', 'Kinley', 'Kissan', 'KitchenTreasures', 'Knorr', 'Kurkure', 'L-oreal', 'Lal', 'Lays', 'Lifebuoy', 'Lindt', 'Lipton', 'Lizol', 'M-M', 'MDH', 'MTR', 'Maggi', 'Malkist', 'MarvelTea', 'MasalaNoodles_maggi', 'Masala_CuppaNoodles_Maggi', 'MaxFresh_Toothpaste_Colgate', 'MaxProtein', 'MazedaarMasala_CupNoodles', 'McCain', 'McVities', 'Milk_Everyday_Nestle', 'MilkyMist', 'MiniMeBakers', 'MixedFruitJam_Sil', 'Monster', 'MosquitoRepellent', 'MothersRecipe', 'MuscleBlaze', 'MustardOil', 'NANPro', 'Nakoda', 'Navratan', 'Neeraj', 'Nescafe', 'Nestle', 'Nestle Cerelac', 'Nilons', 'Nivea', 'Nongshim', 'Noodles_Yippee', 'Nutella', 'Nutrela', 'Oats_ProteinRich_FirstCrop', 'Odonil', 'OliveOil', 'OrganicIndia', 'OrganicTattva', 'PaperBoat', 'PaprikaCashews_GoldenGate', 'Parachute', 'ParkAvenue', 'Parle', 'Patanjali', 'PediaSure', 'Pickle_DoubleHorse', 'Pickle_KitchenTreasures', 'PinkSalt', 'Pintola', 'Pipo', 'Pistachios_Wonderland', 'Ponds', 'Pringles', 'Protinex', 'Pulses', 'Pulses_Goodlife', 'Pulses_SafeHarvest', 'Pure', 'Pushp', 'Quaker', 'Rasna', 'Raw', 'RawPressery', 'Real', 'RealThai', 'RedBull', 'RedLabel', 'RefinedOil', 'Revive', 'Rice', 'Rin', 'SadaBahar', 'Sadabahar', 'Safffola', 'Saffola', 'Saffola oil', 'Salt', 'Savlon', 'Schweppes', 'SnacTac', 'Snapin', 'Snickers', 'Soap', 'Soap_Neem_Dyna', 'Soap_Sandal_Dyna', 'Sofit', 'SoftDrink', 'Spices_24MantraOrganic', 'Spices_Catch', 'Spices_FineLife', 'Spices_MDH', 'Spices_ProNature', 'Spreads_Hershey-s', 'Stayfree', 'Sting', 'Storia', 'Streax', 'Sugar', 'SugarFree', 'SugarLite', 'Suhana', 'Sundrop', 'Sunfeast', 'Sunsilk', 'SurfExcel', 'Taaza', 'TajMahal', 'Talati', 'Tang', 'Tata', 'TataGold', 'TataPremium', 'Tata_Agni', 'Tea_3Roses_BrookeBond', 'Tea_Ruby_BrookeBond', 'Tetley', 'Tide', 'Toblerone', 'TomatoKetchup', 'TomatoPuree_Kissan', 'TongGarden', 'TooYumm', 'ToothBrush', 'ToothPaste', 'TopNTown', 'TopRamen', 'Tops', 'Trapa', 'Tresemme', 'TriphalaChurna_Baidyanath', 'Tropicana', 'Twinings', 'Ujala', 'Unibic', 'Upma_MTR', 'Vanish', 'Vaseline', 'Veeba', 'Veggi_CupNoodles_Manchow', 'VeggieManchow_CupNoodles', 'Vicks', 'Vim', 'WaghBakri', 'WaiWai', 'Water', 'WeikField', 'Weikfield', 'Whisper', 'Winkies', 'WomensPlus', 'Yeast', 'Zandu', 'aachar-sethi', 'bansal tableware', 'biscuit_bourbon', 'choclate_lindberg', 'cup noodles italiano', 'dantkanti', 'double diamond tea', 'dyna neem soap', 'figo detergent', 'first crop aloo bhujia', 'first crop oats', 'johnson', 'masti oye', 'noodles_MastiOye', 'pantene advance hairfall solution shampoo', 'pedigree', 'priya gold CNC', 'redpaste', 'soap_ghari', 'soap_no.1', 'spray_moov', 'sudha milk', 'sundrop oil', 'vicco', 'whippingcream']"
      ],
      "metadata": {
        "id": "3FMussYsfNbA"
      },
      "execution_count": null,
      "outputs": []
    },
    {
      "cell_type": "code",
      "source": [
        "len(a)"
      ],
      "metadata": {
        "colab": {
          "base_uri": "https://localhost:8080/"
        },
        "id": "MHPegTq8-y5H",
        "outputId": "6ab77217-c04f-4e59-94c9-b3f4708e7b03"
      },
      "execution_count": null,
      "outputs": [
        {
          "output_type": "execute_result",
          "data": {
            "text/plain": [
              "324"
            ]
          },
          "metadata": {},
          "execution_count": 105
        }
      ]
    },
    {
      "cell_type": "code",
      "source": [
        "for i in range(323, -1, -1):\n",
        "    if newlst[i] == 0:\n",
        "        a.pop(i)\n"
      ],
      "metadata": {
        "id": "JW_zUXEGfWFP"
      },
      "execution_count": null,
      "outputs": []
    },
    {
      "cell_type": "code",
      "source": [
        "a"
      ],
      "metadata": {
        "colab": {
          "base_uri": "https://localhost:8080/"
        },
        "id": "Cl8srAga3Psk",
        "outputId": "4fd4bd7c-884f-4cf8-9f71-a2d19da06cb8"
      },
      "execution_count": null,
      "outputs": [
        {
          "output_type": "execute_result",
          "data": {
            "text/plain": [
              "['Aakash',\n",
              " 'Aarambh',\n",
              " 'Act2',\n",
              " 'Almonds',\n",
              " 'AmlaOil',\n",
              " 'Amul',\n",
              " 'Ariel',\n",
              " 'BNatural',\n",
              " 'Bagrrys',\n",
              " 'Balaji',\n",
              " 'Bambino',\n",
              " 'Britannia',\n",
              " 'BrookeBond',\n",
              " 'Bru',\n",
              " 'Butter_MilkyMist',\n",
              " 'Butter_MotherDairy',\n",
              " 'Butter_Nutralite',\n",
              " 'Cadbury',\n",
              " 'Cashews',\n",
              " 'Catch',\n",
              " 'CheeseCubes_D-lecta',\n",
              " 'CheeseSlices_Go',\n",
              " 'CheeseSlices_MilkyMist',\n",
              " 'Cheese_D-lecta',\n",
              " 'Chings',\n",
              " 'ChocoPie',\n",
              " 'Comfort',\n",
              " 'Curd_MilkyMist',\n",
              " 'Dabur',\n",
              " 'DelMonte',\n",
              " 'DelMonte_Mayonnaise',\n",
              " 'Dettol',\n",
              " 'Dove',\n",
              " 'DrOetker',\n",
              " 'Dukes',\n",
              " 'Eno',\n",
              " 'Everest',\n",
              " 'FrozenPackagedFood',\n",
              " 'Gaia',\n",
              " 'Garnier',\n",
              " 'Ghee',\n",
              " 'Go',\n",
              " 'Haldirams',\n",
              " 'Harpic',\n",
              " 'Head-Shoulders',\n",
              " 'Hersheys',\n",
              " 'Himalaya',\n",
              " 'Honey_Lion',\n",
              " 'Horlicks',\n",
              " 'Johnsons',\n",
              " 'Kaffe',\n",
              " 'Kellogs',\n",
              " 'Keya',\n",
              " 'Kissan',\n",
              " 'Kurkure',\n",
              " 'Lal',\n",
              " 'Lays',\n",
              " 'Lifebuoy',\n",
              " 'Lindt',\n",
              " 'Lipton',\n",
              " 'MDH',\n",
              " 'MTR',\n",
              " 'Maggi',\n",
              " 'Malkist',\n",
              " 'Masala_CuppaNoodles_Maggi',\n",
              " 'MazedaarMasala_CupNoodles',\n",
              " 'MothersRecipe',\n",
              " 'MustardOil',\n",
              " 'Nescafe',\n",
              " 'Nestle',\n",
              " 'Nivea',\n",
              " 'Noodles_Yippee',\n",
              " 'OrganicIndia',\n",
              " 'PaperBoat',\n",
              " 'Parle',\n",
              " 'Patanjali',\n",
              " 'Pickle_DoubleHorse',\n",
              " 'Ponds',\n",
              " 'Pringles',\n",
              " 'Pulses',\n",
              " 'Pulses_SafeHarvest',\n",
              " 'Pure',\n",
              " 'Raw',\n",
              " 'Real',\n",
              " 'RealThai',\n",
              " 'RedBull',\n",
              " 'RedLabel',\n",
              " 'Rice',\n",
              " 'Rin',\n",
              " 'Saffola',\n",
              " 'SnacTac',\n",
              " 'Snickers',\n",
              " 'Soap',\n",
              " 'SoftDrink',\n",
              " 'Spices_Catch',\n",
              " 'Spices_FineLife',\n",
              " 'Spreads_Hershey-s',\n",
              " 'Sting',\n",
              " 'Storia',\n",
              " 'SugarFree',\n",
              " 'Sunfeast',\n",
              " 'SurfExcel',\n",
              " 'TajMahal',\n",
              " 'Tata',\n",
              " 'TataGold',\n",
              " 'TataPremium',\n",
              " 'Tata_Agni',\n",
              " 'Tea_3Roses_BrookeBond',\n",
              " 'Tetley',\n",
              " 'TomatoKetchup',\n",
              " 'ToothBrush',\n",
              " 'ToothPaste',\n",
              " 'TopRamen',\n",
              " 'Tops',\n",
              " 'Tropicana',\n",
              " 'Unibic',\n",
              " 'Vaseline',\n",
              " 'Veeba',\n",
              " 'Vim',\n",
              " 'WaghBakri',\n",
              " 'Water',\n",
              " 'Weikfield',\n",
              " 'aachar-sethi',\n",
              " 'dantkanti',\n",
              " 'double diamond tea',\n",
              " 'first crop oats',\n",
              " 'redpaste']"
            ]
          },
          "metadata": {},
          "execution_count": 112
        }
      ]
    },
    {
      "cell_type": "code",
      "source": [
        "b = ['Aakash',\n",
        " 'Aarambh',\n",
        " 'Act2',\n",
        " 'Almonds',\n",
        " 'AmlaOil',\n",
        " 'Amul',\n",
        " 'Ariel',\n",
        " 'BNatural',\n",
        " 'Bagrrys',\n",
        " 'Balaji',\n",
        " 'Bambino',\n",
        " 'Britannia',\n",
        " 'BrookeBond',\n",
        " 'Bru',\n",
        " 'Butter_MilkyMist',\n",
        " 'Butter_MotherDairy',\n",
        " 'Butter_Nutralite',\n",
        " 'Cadbury',\n",
        " 'Cashews',\n",
        " 'Catch',\n",
        " 'CheeseCubes_D-lecta',\n",
        " 'CheeseSlices_Go',\n",
        " 'CheeseSlices_MilkyMist',\n",
        " 'Cheese_D-lecta',\n",
        " 'Chings',\n",
        " 'ChocoPie',\n",
        " 'Comfort',\n",
        " 'Curd_MilkyMist',\n",
        " 'Dabur',\n",
        " 'DelMonte',\n",
        " 'DelMonte_Mayonnaise',\n",
        " 'Dettol',\n",
        " 'Dove',\n",
        " 'DrOetker',\n",
        " 'Dukes',\n",
        " 'Eno',\n",
        " 'Everest',\n",
        " 'FrozenPackagedFood',\n",
        " 'Gaia',\n",
        " 'Garnier',\n",
        " 'Ghee',\n",
        " 'Go',\n",
        " 'Haldirams',\n",
        " 'Harpic',\n",
        " 'Head-Shoulders',\n",
        " 'Hersheys',\n",
        " 'Himalaya',\n",
        " 'Honey_Lion',\n",
        " 'Horlicks',\n",
        " 'Johnsons',\n",
        " 'Kaffe',\n",
        " 'Kellogs',\n",
        " 'Keya',\n",
        " 'Kissan',\n",
        " 'Kurkure',\n",
        " 'Lal',\n",
        " 'Lays',\n",
        " 'Lifebuoy',\n",
        " 'Lindt',\n",
        " 'Lipton',\n",
        " 'MDH',\n",
        " 'MTR',\n",
        " 'Maggi',\n",
        " 'Malkist',\n",
        " 'Masala_CuppaNoodles_Maggi',\n",
        " 'MazedaarMasala_CupNoodles',\n",
        " 'MothersRecipe',\n",
        " 'MustardOil',\n",
        " 'Nescafe',\n",
        " 'Nestle',\n",
        " 'Nivea',\n",
        " 'Noodles_Yippee',\n",
        " 'OrganicIndia',\n",
        " 'PaperBoat',\n",
        " 'Parle',\n",
        " 'Patanjali',\n",
        " 'Pickle_DoubleHorse',\n",
        " 'Ponds',\n",
        " 'Pringles',\n",
        " 'Pulses',\n",
        " 'Pulses_SafeHarvest',\n",
        " 'Pure',\n",
        " 'Raw',\n",
        " 'Real',\n",
        " 'RealThai',\n",
        " 'RedBull',\n",
        " 'RedLabel',\n",
        " 'Rice',\n",
        " 'Rin',\n",
        " 'Saffola',\n",
        " 'SnacTac',\n",
        " 'Snickers',\n",
        " 'Soap',\n",
        " 'SoftDrink',\n",
        " 'Spices_Catch',\n",
        " 'Spices_FineLife',\n",
        " 'Spreads_Hershey-s',\n",
        " 'Sting',\n",
        " 'Storia',\n",
        " 'SugarFree',\n",
        " 'Sunfeast',\n",
        " 'SurfExcel',\n",
        " 'TajMahal',\n",
        " 'Tata',\n",
        " 'TataGold',\n",
        " 'TataPremium',\n",
        " 'Tata_Agni',\n",
        " 'Tea_3Roses_BrookeBond',\n",
        " 'Tetley',\n",
        " 'TomatoKetchup',\n",
        " 'ToothBrush',\n",
        " 'ToothPaste',\n",
        " 'TopRamen',\n",
        " 'Tops',\n",
        " 'Tropicana',\n",
        " 'Unibic',\n",
        " 'Vaseline',\n",
        " 'Veeba',\n",
        " 'Vim',\n",
        " 'WaghBakri',\n",
        " 'Water',\n",
        " 'Weikfield',\n",
        " 'aachar-sethi',\n",
        " 'dantkanti',\n",
        " 'double diamond tea',\n",
        " 'first crop oats',\n",
        " 'redpaste']"
      ],
      "metadata": {
        "id": "0uCS92pmgTLp",
        "collapsed": true
      },
      "execution_count": null,
      "outputs": []
    },
    {
      "cell_type": "code",
      "source": [
        "a ==b"
      ],
      "metadata": {
        "colab": {
          "base_uri": "https://localhost:8080/"
        },
        "id": "e0i9ty4x3xdQ",
        "outputId": "bb319b1d-7045-493f-98b2-c8ab4076963f"
      },
      "execution_count": null,
      "outputs": [
        {
          "output_type": "execute_result",
          "data": {
            "text/plain": [
              "True"
            ]
          },
          "metadata": {},
          "execution_count": 115
        }
      ]
    },
    {
      "cell_type": "code",
      "source": [
        "# imp info\n",
        "\n",
        "original_class_occurances = lst\n",
        "original_uniques_inafile = uniques\n",
        "postprocessing_class_occurances = newlst"
      ],
      "metadata": {
        "id": "NNLQaNLTgdhO"
      },
      "execution_count": null,
      "outputs": []
    },
    {
      "cell_type": "code",
      "source": [
        "import os\n",
        "i = 1\n",
        "for label in os.scandir(\"./test/images\"):\n",
        "    if i % 9 != 0:\n",
        "        os.remove(label.path)\n",
        "    i += 1"
      ],
      "metadata": {
        "id": "OVR9lql4daM0"
      },
      "execution_count": null,
      "outputs": []
    },
    {
      "cell_type": "code",
      "source": [],
      "metadata": {
        "id": "LjJhRBiXdd_6"
      },
      "execution_count": null,
      "outputs": []
    }
  ]
}